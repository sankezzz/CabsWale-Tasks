{
 "cells": [
  {
   "cell_type": "code",
   "execution_count": 1,
   "id": "227b7aa1",
   "metadata": {},
   "outputs": [],
   "source": [
    "import requests\n",
    "\n",
    "def resolve_facebook_url(shared_url):\n",
    "    try:\n",
    "        response = requests.get(shared_url, allow_redirects=True)\n",
    "        final_url = response.url\n",
    "        return final_url\n",
    "    except Exception as e:\n",
    "        return None\n"
   ]
  },
  {
   "cell_type": "code",
   "execution_count": 3,
   "id": "f327feab",
   "metadata": {},
   "outputs": [
    {
     "name": "stdout",
     "output_type": "stream",
     "text": [
      "Resolved Facebook URL: https://www.facebook.com/people/Ramesh-Rajnota/61576895878112/?rdid=ucWJcdJiRZbNBYFE&share_url=https%3A%2F%2Fwww.facebook.com%2Fshare%2F1B29K4e4Mu%2F\n"
     ]
    }
   ],
   "source": [
    "resolved=resolve_facebook_url(\"https://www.facebook.com/share/1B29K4e4Mu/\")\n",
    "print(f\"Resolved Facebook URL: {resolved}\")"
   ]
  },
  {
   "cell_type": "code",
   "execution_count": null,
   "id": "06a0a24e",
   "metadata": {},
   "outputs": [],
   "source": []
  }
 ],
 "metadata": {
  "kernelspec": {
   "display_name": "Python 3",
   "language": "python",
   "name": "python3"
  },
  "language_info": {
   "codemirror_mode": {
    "name": "ipython",
    "version": 3
   },
   "file_extension": ".py",
   "mimetype": "text/x-python",
   "name": "python",
   "nbconvert_exporter": "python",
   "pygments_lexer": "ipython3",
   "version": "3.12.2"
  }
 },
 "nbformat": 4,
 "nbformat_minor": 5
}
