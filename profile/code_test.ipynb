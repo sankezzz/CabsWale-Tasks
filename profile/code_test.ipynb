{
 "cells": [
  {
   "cell_type": "code",
   "execution_count": 4,
   "id": "1c944e33",
   "metadata": {},
   "outputs": [
    {
     "name": "stdout",
     "output_type": "stream",
     "text": [
      "3\n"
     ]
    }
   ],
   "source": [
    "\n",
    "\n",
    "def reportqualtiy(user_text,user_screenshot):\n",
    "    text_present=bool(user_text)\n",
    "    ss_present=bool(user_screenshot)\n",
    "    if not ss_present and not text_present :\n",
    "        report_quality=0\n",
    "    elif text_present and not ss_present:\n",
    "        report_quality=1\n",
    "    elif ss_present and not text_present:\n",
    "        report_quality=2\n",
    "    elif text_present and ss_present:\n",
    "        report_quality=3\n",
    "    return report_quality\n",
    "\n",
    "print(reportqualtiy(\"ty\",\"p\"))\n"
   ]
  },
  {
   "cell_type": "code",
   "execution_count": null,
   "id": "2b7072c5",
   "metadata": {},
   "outputs": [],
   "source": []
  }
 ],
 "metadata": {
  "kernelspec": {
   "display_name": "Python 3",
   "language": "python",
   "name": "python3"
  },
  "language_info": {
   "codemirror_mode": {
    "name": "ipython",
    "version": 3
   },
   "file_extension": ".py",
   "mimetype": "text/x-python",
   "name": "python",
   "nbconvert_exporter": "python",
   "pygments_lexer": "ipython3",
   "version": "3.12.2"
  }
 },
 "nbformat": 4,
 "nbformat_minor": 5
}
